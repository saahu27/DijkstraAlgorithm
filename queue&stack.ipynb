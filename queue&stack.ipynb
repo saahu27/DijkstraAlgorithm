{
  "nbformat": 4,
  "nbformat_minor": 0,
  "metadata": {
    "colab": {
      "name": "Project0.1.ipynb",
      "provenance": []
    },
    "kernelspec": {
      "name": "python3",
      "display_name": "Python 3"
    },
    "language_info": {
      "name": "python"
    }
  },
  "cells": [
    {
      "cell_type": "markdown",
      "source": [
        "# Stack and Queue in Python\n",
        "A stack is a linear data structure that stores items in a Last-In/First-Out (LIFO) or First-In/Last-Out (FILO) manner. Whereas in queue it is First-In/First-Out (FIFO). Here we discuss the two most commonly used datastructures for stack and queue while mentioning differences in them.\n",
        "\n",
        "We show the following implementation below.\n",
        "1. Using list\n",
        "2. Using deque from collections\n"
      ],
      "metadata": {
        "id": "yIdPzJmfhd1-"
      }
    },
    {
      "cell_type": "markdown",
      "source": [
        "## Implementation using list:\n",
        "**Stack** works on the principle of “Last-in, first-out”. Also, the inbuilt functions in Python make the code short and simple. To add an item to the top of the list, i.e., to push an item, we use append() function and to pop out an element we use pop() function. These functions work quiet efficiently and fast in end operations."
      ],
      "metadata": {
        "id": "snRoicJhkO6B"
      }
    },
    {
      "cell_type": "code",
      "source": [
        "stack = [\"Amar\", \"Akbar\", \"Anthony\"]\n",
        "stack.append(\"Ram\")\n",
        "stack.append(\"Iqbal\")\n",
        "print(stack)\n",
        "  \n",
        "# Removes the last item\n",
        "print(stack.pop())\n",
        "  \n",
        "print(stack)\n",
        "  \n",
        "# Removes the last item\n",
        "print(stack.pop())\n",
        "  \n",
        "print(stack)"
      ],
      "metadata": {
        "colab": {
          "base_uri": "https://localhost:8080/"
        },
        "id": "5i5dmKzxhjkf",
        "outputId": "c1cd4da2-3655-4e08-8012-09c6392a9016"
      },
      "execution_count": null,
      "outputs": [
        {
          "output_type": "stream",
          "name": "stdout",
          "text": [
            "['Amar', 'Akbar', 'Anthony', 'Ram', 'Iqbal']\n",
            "Iqbal\n",
            "['Amar', 'Akbar', 'Anthony', 'Ram']\n",
            "Ram\n",
            "['Amar', 'Akbar', 'Anthony']\n"
          ]
        }
      ]
    },
    {
      "cell_type": "markdown",
      "source": [
        "**Queue** works on the principle of “First-in, first-out”. Below is list implementation of queue. We use pop(0) to remove the first item from a list. This is not a efficient implementation of Queue."
      ],
      "metadata": {
        "id": "zP7dVBU1O5RP"
      }
    },
    {
      "cell_type": "code",
      "source": [
        "queue = [\"Amar\", \"Akbar\", \"Anthony\"]\n",
        "queue.append(\"Ram\")\n",
        "queue.append(\"Iqbal\")\n",
        "print(queue)\n",
        "  \n",
        "# Removes the first item\n",
        "print(queue.pop(0))\n",
        "  \n",
        "print(queue)\n",
        "  \n",
        "# Removes the first item\n",
        "print(queue.pop(0))\n",
        "  \n",
        "print(queue)"
      ],
      "metadata": {
        "colab": {
          "base_uri": "https://localhost:8080/"
        },
        "id": "PudwacdTP2tn",
        "outputId": "978eaef9-fe85-40c6-fb04-43511201c6df"
      },
      "execution_count": null,
      "outputs": [
        {
          "output_type": "stream",
          "name": "stdout",
          "text": [
            "['Amar', 'Akbar', 'Anthony', 'Ram', 'Iqbal']\n",
            "Amar\n",
            "['Akbar', 'Anthony', 'Ram', 'Iqbal']\n",
            "Akbar\n",
            "['Anthony', 'Ram', 'Iqbal']\n"
          ]
        }
      ]
    },
    {
      "cell_type": "markdown",
      "source": [
        "Note: Other functions of list can be used directly."
      ],
      "metadata": {
        "id": "ojK4Cf9akt59"
      }
    },
    {
      "cell_type": "markdown",
      "source": [
        "## Implementation using collections.deque:\n",
        "In case of **stack**, list implementation as well as deque implementation works fine and provides both append() and pop() in O(1) time."
      ],
      "metadata": {
        "id": "aNTTaBlPnG6R"
      }
    },
    {
      "cell_type": "code",
      "source": [
        "from collections import deque\n",
        "queue = deque([\"Ram\", \"Tarun\", \"Asif\", \"John\"])\n",
        "print(queue)\n",
        "queue.append(\"Akbar\")\n",
        "print(queue)\n",
        "queue.append(\"Birbal\")\n",
        "print(queue)\n",
        "print(queue.pop())                 \n",
        "print(queue.pop())                 \n",
        "print(queue)"
      ],
      "metadata": {
        "colab": {
          "base_uri": "https://localhost:8080/"
        },
        "id": "yQ2ARzArAtpr",
        "outputId": "7ec3bae6-55d7-41ad-dfaa-de501ccb1e75"
      },
      "execution_count": null,
      "outputs": [
        {
          "output_type": "stream",
          "name": "stdout",
          "text": [
            "deque(['Ram', 'Tarun', 'Asif', 'John'])\n",
            "deque(['Ram', 'Tarun', 'Asif', 'John', 'Akbar'])\n",
            "deque(['Ram', 'Tarun', 'Asif', 'John', 'Akbar', 'Birbal'])\n",
            "Birbal\n",
            "Akbar\n",
            "deque(['Ram', 'Tarun', 'Asif', 'John'])\n"
          ]
        }
      ]
    },
    {
      "cell_type": "markdown",
      "source": [
        "In case of **queue**, when pop() is made from the beginning of the list, it is slow. This occurs due to the properties of list, which is fast at the end operations but slow at the beginning operations, as all other elements have to be shifted one by one.\n",
        "Thus, we use dequeue over list for queue implementation."
      ],
      "metadata": {
        "id": "vg7oQIrCQZTg"
      }
    },
    {
      "cell_type": "code",
      "source": [
        "from collections import deque\n",
        "queue = deque([\"Ram\", \"Tarun\", \"Asif\", \"John\"])\n",
        "print(queue)\n",
        "queue.append(\"Akbar\")\n",
        "print(queue)\n",
        "queue.append(\"Birbal\")\n",
        "print(queue)\n",
        "print(queue.popleft())                 \n",
        "print(queue.popleft())                 \n",
        "print(queue)"
      ],
      "metadata": {
        "colab": {
          "base_uri": "https://localhost:8080/"
        },
        "id": "gqMjDxDAQZ5I",
        "outputId": "311b19dc-e475-4991-a662-13f27a9077fe"
      },
      "execution_count": null,
      "outputs": [
        {
          "output_type": "stream",
          "name": "stdout",
          "text": [
            "deque(['Ram', 'Tarun', 'Asif', 'John'])\n",
            "deque(['Ram', 'Tarun', 'Asif', 'John', 'Akbar'])\n",
            "deque(['Ram', 'Tarun', 'Asif', 'John', 'Akbar', 'Birbal'])\n",
            "Ram\n",
            "Tarun\n",
            "deque(['Asif', 'John', 'Akbar', 'Birbal'])\n"
          ]
        }
      ]
    },
    {
      "cell_type": "markdown",
      "source": [
        "## Question - Implement queue using stack\n",
        "Implement a first in first out (FIFO) queue using only two stacks. \n",
        "\n",
        "The implemented queue should support all the functions of a normal queue (push, peek, pop, and empty).\n",
        "\n",
        "Implement the MyQueue class:\n",
        "\n",
        "\n",
        "*   void push(int x): Pushes element x to the back of the queue.\n",
        "*   int pop(): Removes the element from the front of the queue and returns it.\n",
        "\n",
        "*   int peek(): Returns the element at the front of the queue.\n",
        "*   boolean empty(): Returns true if the queue is empty, false otherwise.\n",
        "\n",
        "Notes:\n",
        "\n",
        "You must use only standard operations of a stack, which means only push to top, peek/pop from top, size, and is empty operations are valid.\n"
      ],
      "metadata": {
        "id": "tNZ1p6Gyc0O7"
      }
    },
    {
      "cell_type": "markdown",
      "source": [
        "**Example 1:**\n",
        "\n",
        "**Input:**\n",
        "[\"MyQueue\", \"push\", \"push\", \"peek\", \"pop\", \"empty\"]\n",
        "\n",
        "[[], [1], [2], [], [], []]\n",
        "\n",
        "**Output:**\n",
        "[null, null, null, 1, 1, false]\n",
        "\n",
        "**Explanation**\n",
        "\n",
        "MyQueue myQueue = new MyQueue();\n",
        "\n",
        "myQueue.push(1); // queue is: [1]\n",
        "\n",
        "myQueue.push(2); // queue is: [1, 2] (leftmost is front of the queue)\n",
        "\n",
        "myQueue.peek(); // return 1\n",
        "\n",
        "myQueue.pop(); // return 1, queue is [2]\n",
        "\n",
        "myQueue.empty(); // return false"
      ],
      "metadata": {
        "id": "AKeU-k1NgzEk"
      }
    },
    {
      "cell_type": "code",
      "source": [
        "class MyQueue {\n",
        "public:\n",
        "    MyQueue() {\n",
        "       # Write code here \n",
        "    }\n",
        "    \n",
        "    void push(int x) {\n",
        "        # Write code here\n",
        "    }\n",
        "    \n",
        "    int pop() {\n",
        "       # Write code here \n",
        "    }\n",
        "    \n",
        "    int peek() {\n",
        "        # Write code here\n",
        "    }\n",
        "    \n",
        "    bool empty() {\n",
        "       # Write code here \n",
        "    }\n",
        "};\n",
        "\n",
        "\"\"\"\n",
        " Your MyQueue object will be instantiated and called as such:\n",
        " MyQueue* obj = new MyQueue();\n",
        " obj->push(x);\n",
        " int param_2 = obj->pop();\n",
        " int param_3 = obj->peek();\n",
        " bool param_4 = obj->empty();\n",
        "\"\"\""
      ],
      "metadata": {
        "id": "dT_g7KmzdNCG"
      },
      "execution_count": null,
      "outputs": []
    }
  ]
}